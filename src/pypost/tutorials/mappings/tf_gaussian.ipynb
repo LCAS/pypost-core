{
 "cells": [
  {
   "cell_type": "code",
   "execution_count": null,
   "metadata": {
    "collapsed": true
   },
   "outputs": [],
   "source": [
    "num_cpu = 1\n",
    "tf_config = tf.ConfigProto(inter_op_parallelism_threads=num_cpu, intra_op_parallelism_threads=num_cpu)\n",
    "session = tf.Session(config=tf_config)\n",
    "session.__enter__()\n",
    "\n",
    "dataManager = DataManager('data')\n",
    "dataManager.addDataEntry('states', 10)\n",
    "        dataManager.addDataEntry('actions', 5)\n",
    "\n",
    "        generatorMean = tfutils.continuous_MLP_generator([100, 100])\n",
    "        generatorLogStd = tfutils.diagional_log_std_generator()\n",
    "\n",
    "        gaussian = DiagonalGaussian_Base(dataManager, ['states'], ['actions'], generatorMean, generatorLogStd)\n",
    "\n",
    "        data = dataManager.createDataObject([10])\n",
    "\n",
    "        data[...].states = np.random.normal(0, 1, data[...].states.shape)\n"
   ]
  }
 ],
 "metadata": {
  "kernelspec": {
   "display_name": "Python 2",
   "language": "python",
   "name": "python2"
  },
  "language_info": {
   "codemirror_mode": {
    "name": "ipython",
    "version": 2.0
   },
   "file_extension": ".py",
   "mimetype": "text/x-python",
   "name": "python",
   "nbconvert_exporter": "python",
   "pygments_lexer": "ipython2",
   "version": "2.7.6"
  }
 },
 "nbformat": 4,
 "nbformat_minor": 0
}